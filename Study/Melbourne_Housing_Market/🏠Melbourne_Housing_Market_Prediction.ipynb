{
  "nbformat": 4,
  "nbformat_minor": 0,
  "metadata": {
    "colab": {
      "provenance": []
    },
    "kernelspec": {
      "name": "python3",
      "display_name": "Python 3"
    },
    "language_info": {
      "name": "python"
    }
  },
  "cells": [
    {
      "cell_type": "markdown",
      "source": [
        "# 🐸캐굴캐굴 필사 스터디 5주차\n",
        "## [🏠Melbourne Housing Market](https://www.kaggle.com/datasets/anthonypino/melbourne-housing-market)\n",
        "### Code #1 [Outlier!!! The Silent Killer](https://www.kaggle.com/code/nareshbhat/outlier-the-silent-killer)\n",
        "### Code #2 [Gradient Boosting Regressor R^2 = 0.85](https://www.kaggle.com/code/benjaminjamesrichard/gradient-boosting-regressor-r-2-0-85)\n",
        "### 모델링 참고 : [Titanic Top 4% with ensemble modeling](https://www.kaggle.com/code/yassineghouzam/titanic-top-4-with-ensemble-modeling/notebook)\n",
        "\n",
        "<br>\n",
        "\n",
        "5주차 학습 기간 : 23.02.27 ~ 23.03.06      \n",
        "주제 : Melbourne Housing Market Dataset (ML REG)     \n",
        "- 주택 구매자가 구매 결정을 내릴 수 있도록 멜버른 부동산 시장 주택 가격을 가장 정확하게 예측하는 회귀 분석 모델을 만들어낸다. \n",
        "- 평가 지표 : R^2 score, 평균 절대 오차(MAE), 평균 제곱 오차(MSE) 및 RMSE(Root Mean Square Error)\n",
        "\n"
      ],
      "metadata": {
        "id": "1R7xB4GerOxK"
      }
    },
    {
      "cell_type": "markdown",
      "source": [
        "### About Dataset \n",
        "#### 📌생각해봐야할 것들     \n",
        ">1) 정확히 언제?     \n",
        "2) 전반적인 총 주택 가격, 판매량 대 미판매량, 임대 아파트 판매의 증가 및 주택 판매의 감소, CouncilArea나 지역별 변화, 멜버른 중심지에서 떨어진 거리의 주택 판매 증가 및 가까운 거리의 주택 판매량 등이 감소되는 것을 미리 예측할 수 있는가?     \n",
        "3) 변화를 보이는 변수가 무엇인가 ?      \n",
        "4) ***Northcote***에서 침실 2개짜리 아파트를 사는 것을 더 미뤄야 할까요?   \n",
        "-- 본 데이터셋을 게시한 목적 -> Target 변수가 될 것 같다  \n",
        "\n",
        "\n",
        "- 부동산 크기, 토지 크기 및 의회 면적을 포함한 여러 데이터를 가지고 파생 변수를 더 만들어볼 수도 있을 것 같다 "
      ],
      "metadata": {
        "id": "cPy6gNZ-sivo"
      }
    },
    {
      "cell_type": "markdown",
      "source": [
        "# Libraries and Utilities"
      ],
      "metadata": {
        "id": "aY-Fo3ynskGr"
      }
    },
    {
      "cell_type": "code",
      "source": [
        "from google.colab import drive\n",
        "drive.mount('/content/drive')"
      ],
      "metadata": {
        "colab": {
          "base_uri": "https://localhost:8080/",
          "height": 35
        },
        "id": "AAztrJkUsSye",
        "outputId": "52857b5d-5739-43be-9072-550494518342"
      },
      "execution_count": 45,
      "outputs": [
        {
          "output_type": "stream",
          "name": "stdout",
          "text": [
            "Drive already mounted at /content/drive; to attempt to forcibly remount, call drive.mount(\"/content/drive\", force_remount=True).\n"
          ]
        },
        {
          "output_type": "display_data",
          "data": {
            "text/plain": [
              "<IPython.core.display.Javascript object>"
            ],
            "application/javascript": [
              "\n",
              "            setTimeout(function() {\n",
              "                var nbb_cell_id = 45;\n",
              "                var nbb_unformatted_code = \"from google.colab import drive\\ndrive.mount('/content/drive')\";\n",
              "                var nbb_formatted_code = \"from google.colab import drive\\n\\ndrive.mount(\\\"/content/drive\\\")\";\n",
              "                var nbb_cells = Jupyter.notebook.get_cells();\n",
              "                for (var i = 0; i < nbb_cells.length; ++i) {\n",
              "                    if (nbb_cells[i].input_prompt_number == nbb_cell_id) {\n",
              "                        if (nbb_cells[i].get_text() == nbb_unformatted_code) {\n",
              "                             nbb_cells[i].set_text(nbb_formatted_code);\n",
              "                        }\n",
              "                        break;\n",
              "                    }\n",
              "                }\n",
              "            }, 500);\n",
              "            "
            ]
          },
          "metadata": {}
        }
      ]
    },
    {
      "cell_type": "markdown",
      "source": [
        "## Install Package"
      ],
      "metadata": {
        "id": "qVWHi_dVsRwT"
      }
    },
    {
      "cell_type": "code",
      "execution_count": 46,
      "metadata": {
        "colab": {
          "base_uri": "https://localhost:8080/",
          "height": 783
        },
        "id": "Yn0hdI8Sqc5g",
        "outputId": "a4247669-4fd2-44c3-cbc8-d16171ac15d0"
      },
      "outputs": [
        {
          "output_type": "stream",
          "name": "stdout",
          "text": [
            "Looking in indexes: https://pypi.org/simple, https://us-python.pkg.dev/colab-wheels/public/simple/\n",
            "Requirement already satisfied: nb_black in /usr/local/lib/python3.8/dist-packages (1.0.7)\n",
            "Requirement already satisfied: ipython in /usr/local/lib/python3.8/dist-packages (from nb_black) (7.9.0)\n",
            "Requirement already satisfied: black>='19.3' in /usr/local/lib/python3.8/dist-packages (from nb_black) (23.1.0)\n",
            "Requirement already satisfied: platformdirs>=2 in /usr/local/lib/python3.8/dist-packages (from black>='19.3'->nb_black) (3.0.0)\n",
            "Requirement already satisfied: pathspec>=0.9.0 in /usr/local/lib/python3.8/dist-packages (from black>='19.3'->nb_black) (0.11.0)\n",
            "Requirement already satisfied: mypy-extensions>=0.4.3 in /usr/local/lib/python3.8/dist-packages (from black>='19.3'->nb_black) (1.0.0)\n",
            "Requirement already satisfied: tomli>=1.1.0 in /usr/local/lib/python3.8/dist-packages (from black>='19.3'->nb_black) (2.0.1)\n",
            "Requirement already satisfied: typing-extensions>=3.10.0.0 in /usr/local/lib/python3.8/dist-packages (from black>='19.3'->nb_black) (4.5.0)\n",
            "Requirement already satisfied: click>=8.0.0 in /usr/local/lib/python3.8/dist-packages (from black>='19.3'->nb_black) (8.1.3)\n",
            "Requirement already satisfied: packaging>=22.0 in /usr/local/lib/python3.8/dist-packages (from black>='19.3'->nb_black) (23.0)\n",
            "Requirement already satisfied: pygments in /usr/local/lib/python3.8/dist-packages (from ipython->nb_black) (2.6.1)\n",
            "Requirement already satisfied: pexpect in /usr/local/lib/python3.8/dist-packages (from ipython->nb_black) (4.8.0)\n",
            "Requirement already satisfied: setuptools>=18.5 in /usr/local/lib/python3.8/dist-packages (from ipython->nb_black) (57.4.0)\n",
            "Requirement already satisfied: traitlets>=4.2 in /usr/local/lib/python3.8/dist-packages (from ipython->nb_black) (5.7.1)\n",
            "Requirement already satisfied: jedi>=0.10 in /usr/local/lib/python3.8/dist-packages (from ipython->nb_black) (0.18.2)\n",
            "Requirement already satisfied: prompt-toolkit<2.1.0,>=2.0.0 in /usr/local/lib/python3.8/dist-packages (from ipython->nb_black) (2.0.10)\n",
            "Requirement already satisfied: decorator in /usr/local/lib/python3.8/dist-packages (from ipython->nb_black) (4.4.2)\n",
            "Requirement already satisfied: backcall in /usr/local/lib/python3.8/dist-packages (from ipython->nb_black) (0.2.0)\n",
            "Requirement already satisfied: pickleshare in /usr/local/lib/python3.8/dist-packages (from ipython->nb_black) (0.7.5)\n",
            "Requirement already satisfied: parso<0.9.0,>=0.8.0 in /usr/local/lib/python3.8/dist-packages (from jedi>=0.10->ipython->nb_black) (0.8.3)\n",
            "Requirement already satisfied: wcwidth in /usr/local/lib/python3.8/dist-packages (from prompt-toolkit<2.1.0,>=2.0.0->ipython->nb_black) (0.2.6)\n",
            "Requirement already satisfied: six>=1.9.0 in /usr/local/lib/python3.8/dist-packages (from prompt-toolkit<2.1.0,>=2.0.0->ipython->nb_black) (1.15.0)\n",
            "Requirement already satisfied: ptyprocess>=0.5 in /usr/local/lib/python3.8/dist-packages (from pexpect->ipython->nb_black) (0.7.0)\n",
            "Looking in indexes: https://pypi.org/simple, https://us-python.pkg.dev/colab-wheels/public/simple/\n",
            "Requirement already satisfied: catboost in /usr/local/lib/python3.8/dist-packages (1.1.1)\n",
            "Requirement already satisfied: numpy>=1.16.0 in /usr/local/lib/python3.8/dist-packages (from catboost) (1.22.4)\n",
            "Requirement already satisfied: matplotlib in /usr/local/lib/python3.8/dist-packages (from catboost) (3.5.3)\n",
            "Requirement already satisfied: graphviz in /usr/local/lib/python3.8/dist-packages (from catboost) (0.10.1)\n",
            "Requirement already satisfied: plotly in /usr/local/lib/python3.8/dist-packages (from catboost) (5.5.0)\n",
            "Requirement already satisfied: six in /usr/local/lib/python3.8/dist-packages (from catboost) (1.15.0)\n",
            "Requirement already satisfied: scipy in /usr/local/lib/python3.8/dist-packages (from catboost) (1.7.3)\n",
            "Requirement already satisfied: pandas>=0.24.0 in /usr/local/lib/python3.8/dist-packages (from catboost) (1.3.5)\n",
            "Requirement already satisfied: pytz>=2017.3 in /usr/local/lib/python3.8/dist-packages (from pandas>=0.24.0->catboost) (2022.7.1)\n",
            "Requirement already satisfied: python-dateutil>=2.7.3 in /usr/local/lib/python3.8/dist-packages (from pandas>=0.24.0->catboost) (2.8.2)\n",
            "Requirement already satisfied: pyparsing>=2.2.1 in /usr/local/lib/python3.8/dist-packages (from matplotlib->catboost) (3.0.9)\n",
            "Requirement already satisfied: kiwisolver>=1.0.1 in /usr/local/lib/python3.8/dist-packages (from matplotlib->catboost) (1.4.4)\n",
            "Requirement already satisfied: fonttools>=4.22.0 in /usr/local/lib/python3.8/dist-packages (from matplotlib->catboost) (4.38.0)\n",
            "Requirement already satisfied: pillow>=6.2.0 in /usr/local/lib/python3.8/dist-packages (from matplotlib->catboost) (8.4.0)\n",
            "Requirement already satisfied: packaging>=20.0 in /usr/local/lib/python3.8/dist-packages (from matplotlib->catboost) (23.0)\n",
            "Requirement already satisfied: cycler>=0.10 in /usr/local/lib/python3.8/dist-packages (from matplotlib->catboost) (0.11.0)\n",
            "Requirement already satisfied: tenacity>=6.2.0 in /usr/local/lib/python3.8/dist-packages (from plotly->catboost) (8.2.1)\n"
          ]
        },
        {
          "output_type": "display_data",
          "data": {
            "text/plain": [
              "<IPython.core.display.Javascript object>"
            ],
            "application/javascript": [
              "\n",
              "            setTimeout(function() {\n",
              "                var nbb_cell_id = 46;\n",
              "                var nbb_unformatted_code = \"!pip install nb_black\\n!pip install catboost\";\n",
              "                var nbb_formatted_code = \"!pip install nb_black\\n!pip install catboost\";\n",
              "                var nbb_cells = Jupyter.notebook.get_cells();\n",
              "                for (var i = 0; i < nbb_cells.length; ++i) {\n",
              "                    if (nbb_cells[i].input_prompt_number == nbb_cell_id) {\n",
              "                        if (nbb_cells[i].get_text() == nbb_unformatted_code) {\n",
              "                             nbb_cells[i].set_text(nbb_formatted_code);\n",
              "                        }\n",
              "                        break;\n",
              "                    }\n",
              "                }\n",
              "            }, 500);\n",
              "            "
            ]
          },
          "metadata": {}
        }
      ],
      "source": [
        "!pip install nb_black\n",
        "!pip install catboost"
      ]
    },
    {
      "cell_type": "markdown",
      "source": [
        "## Load Libraries"
      ],
      "metadata": {
        "id": "_Joer60sxCp1"
      }
    },
    {
      "cell_type": "code",
      "source": [
        "# Import Libraries\n",
        "import pandas as pd\n",
        "import numpy as np\n",
        "import re\n",
        "import math\n",
        "import warnings\n",
        "\n",
        "# Visualization\n",
        "import matplotlib\n",
        "import seaborn as sns\n",
        "import matplotlib.pyplot as plt\n",
        "import plotly.express as px\n",
        "from matplotlib import colors\n",
        "import plotly.graph_objs as go\n",
        "from plotly.offline import iplot\n",
        "from plotly.subplots import make_subplots\n",
        "\n",
        "# Stats and Metrics\n",
        "from sklearn import metrics\n",
        "from scipy import stats\n",
        "\n",
        "# Models\n",
        "from sklearn.model_selection import train_test_split\n",
        "\n",
        "from sklearn.decomposition import PCA\n",
        "from sklearn.preprocessing import PolynomialFeatures\n",
        "\n",
        "from sklearn.preprocessing import MinMaxScaler\n",
        "from sklearn.preprocessing import StandardScaler\n",
        "\n",
        "from sklearn.linear_model import LinearRegression\n",
        "from sklearn.ensemble import RandomForestRegressor\n",
        "from sklearn.ensemble import GradientBoostingRegressor\n",
        "\n",
        "from sklearn.linear_model import LassoCV\n",
        "\n",
        "%matplotlib inline\n",
        "%load_ext nb_black\n",
        "warnings.filterwarnings(\"ignore\")\n",
        "\n",
        "# base_root \n",
        "root = f\"/content/drive/MyDrive/캐굴캐굴/5주차\""
      ],
      "metadata": {
        "colab": {
          "base_uri": "https://localhost:8080/",
          "height": 53
        },
        "id": "BPxuJLGQxLdy",
        "outputId": "abebf28b-a989-4127-e089-e16788ec325d"
      },
      "execution_count": 47,
      "outputs": [
        {
          "output_type": "stream",
          "name": "stdout",
          "text": [
            "The nb_black extension is already loaded. To reload it, use:\n",
            "  %reload_ext nb_black\n"
          ]
        },
        {
          "output_type": "display_data",
          "data": {
            "text/plain": [
              "<IPython.core.display.Javascript object>"
            ],
            "application/javascript": [
              "\n",
              "            setTimeout(function() {\n",
              "                var nbb_cell_id = 47;\n",
              "                var nbb_unformatted_code = \"# Import Libraries\\nimport pandas as pd\\nimport numpy as np\\nimport re\\nimport math\\nimport warnings\\n\\n# Visualization\\nimport matplotlib\\nimport seaborn as sns\\nimport matplotlib.pyplot as plt\\nimport plotly.express as px\\nfrom matplotlib import colors\\nimport plotly.graph_objs as go\\nfrom plotly.offline import iplot\\nfrom plotly.subplots import make_subplots\\n\\n# Stats and Metrics\\nfrom sklearn import metrics\\nfrom scipy import stats\\n\\n# Models\\nfrom sklearn.model_selection import train_test_split\\n\\nfrom sklearn.decomposition import PCA\\nfrom sklearn.preprocessing import PolynomialFeatures\\n\\nfrom sklearn.preprocessing import MinMaxScaler\\nfrom sklearn.preprocessing import StandardScaler\\n\\nfrom sklearn.linear_model import LinearRegression\\nfrom sklearn.ensemble import RandomForestRegressor\\nfrom sklearn.ensemble import GradientBoostingRegressor\\n\\nfrom sklearn.linear_model import LassoCV\\n\\n%matplotlib inline\\n%load_ext nb_black\\nwarnings.filterwarnings(\\\"ignore\\\")\\n\\n# base_root \\nroot = f\\\"/content/drive/MyDrive/\\u110f\\u1162\\u1100\\u116e\\u11af\\u110f\\u1162\\u1100\\u116e\\u11af/5\\u110c\\u116e\\u110e\\u1161\\\"\";\n",
              "                var nbb_formatted_code = \"# Import Libraries\\nimport pandas as pd\\nimport numpy as np\\nimport re\\nimport math\\nimport warnings\\n\\n# Visualization\\nimport matplotlib\\nimport seaborn as sns\\nimport matplotlib.pyplot as plt\\nimport plotly.express as px\\nfrom matplotlib import colors\\nimport plotly.graph_objs as go\\nfrom plotly.offline import iplot\\nfrom plotly.subplots import make_subplots\\n\\n# Stats and Metrics\\nfrom sklearn import metrics\\nfrom scipy import stats\\n\\n# Models\\nfrom sklearn.model_selection import train_test_split\\n\\nfrom sklearn.decomposition import PCA\\nfrom sklearn.preprocessing import PolynomialFeatures\\n\\nfrom sklearn.preprocessing import MinMaxScaler\\nfrom sklearn.preprocessing import StandardScaler\\n\\nfrom sklearn.linear_model import LinearRegression\\nfrom sklearn.ensemble import RandomForestRegressor\\nfrom sklearn.ensemble import GradientBoostingRegressor\\n\\nfrom sklearn.linear_model import LassoCV\\n\\n%matplotlib inline\\n%load_ext nb_black\\nwarnings.filterwarnings(\\\"ignore\\\")\\n\\n# base_root\\nroot = f\\\"/content/drive/MyDrive/\\u110f\\u1162\\u1100\\u116e\\u11af\\u110f\\u1162\\u1100\\u116e\\u11af/5\\u110c\\u116e\\u110e\\u1161\\\"\";\n",
              "                var nbb_cells = Jupyter.notebook.get_cells();\n",
              "                for (var i = 0; i < nbb_cells.length; ++i) {\n",
              "                    if (nbb_cells[i].input_prompt_number == nbb_cell_id) {\n",
              "                        if (nbb_cells[i].get_text() == nbb_unformatted_code) {\n",
              "                             nbb_cells[i].set_text(nbb_formatted_code);\n",
              "                        }\n",
              "                        break;\n",
              "                    }\n",
              "                }\n",
              "            }, 500);\n",
              "            "
            ]
          },
          "metadata": {}
        }
      ]
    },
    {
      "cell_type": "code",
      "source": [
        "colors = [\n",
        "    \"#7DBCE6\",\n",
        "    \"#EEBDEE\",\n",
        "    \"#EAEAAF\",\n",
        "    \"#8FE195\",\n",
        "    \"#E28181\",\n",
        "    \"#87D8DB\",\n",
        "    \"#C2E37D\",\n",
        "    \"#DF93A4\",\n",
        "    \"#DCB778\",\n",
        "    \"#C497DE\",\n",
        "]\n",
        "sns.palplot(sns.color_palette(colors))\n",
        "plt.title(\"Notebook Colors\", size=12)\n",
        "plt.axis(\"off\")\n",
        "plt.show()"
      ],
      "metadata": {
        "colab": {
          "base_uri": "https://localhost:8080/",
          "height": 101
        },
        "id": "f8GYHOL_Brwo",
        "outputId": "855bab3c-ec4f-41e6-b3cf-c2de3be48d58"
      },
      "execution_count": 48,
      "outputs": [
        {
          "output_type": "display_data",
          "data": {
            "text/plain": [
              "<Figure size 720x72 with 1 Axes>"
            ],
            "image/png": "[encoded data removed]"
          },
          "metadata": {
            "needs_background": "light"
          }
        },
        {
          "output_type": "display_data",
          "data": {
            "text/plain": [
              "<IPython.core.display.Javascript object>"
            ],
            "application/javascript": [
              "\n",
              "            setTimeout(function() {\n",
              "                var nbb_cell_id = 48;\n",
              "                var nbb_unformatted_code = \"colors = [\\n    \\\"#7DBCE6\\\",\\n    \\\"#EEBDEE\\\",\\n    \\\"#EAEAAF\\\",\\n    \\\"#8FE195\\\",\\n    \\\"#E28181\\\",\\n    \\\"#87D8DB\\\",\\n    \\\"#C2E37D\\\",\\n    \\\"#DF93A4\\\",\\n    \\\"#DCB778\\\",\\n    \\\"#C497DE\\\",\\n]\\nsns.palplot(sns.color_palette(colors))\\nplt.title(\\\"Notebook Colors\\\", size=12)\\nplt.axis(\\\"off\\\")\\nplt.show()\";\n",
              "                var nbb_formatted_code = \"colors = [\\n    \\\"#7DBCE6\\\",\\n    \\\"#EEBDEE\\\",\\n    \\\"#EAEAAF\\\",\\n    \\\"#8FE195\\\",\\n    \\\"#E28181\\\",\\n    \\\"#87D8DB\\\",\\n    \\\"#C2E37D\\\",\\n    \\\"#DF93A4\\\",\\n    \\\"#DCB778\\\",\\n    \\\"#C497DE\\\",\\n]\\nsns.palplot(sns.color_palette(colors))\\nplt.title(\\\"Notebook Colors\\\", size=12)\\nplt.axis(\\\"off\\\")\\nplt.show()\";\n",
              "                var nbb_cells = Jupyter.notebook.get_cells();\n",
              "                for (var i = 0; i < nbb_cells.length; ++i) {\n",
              "                    if (nbb_cells[i].input_prompt_number == nbb_cell_id) {\n",
              "                        if (nbb_cells[i].get_text() == nbb_unformatted_code) {\n",
              "                             nbb_cells[i].set_text(nbb_formatted_code);\n",
              "                        }\n",
              "                        break;\n",
              "                    }\n",
              "                }\n",
              "            }, 500);\n",
              "            "
            ]
          },
          "metadata": {}
        }
      ]
    },
    {
      "cell_type": "markdown",
      "source": [
        "# Load and check data"
      ],
      "metadata": {
        "id": "EUcOYb2vy0kt"
      }
    },
    {
      "cell_type": "code",
      "source": [
        "# File\n",
        "df = pd.read_csv(f'{root}/Melbourne_housing_FULL.csv')\n",
        "print(df.shape)\n",
        "df.head()"
      ],
      "metadata": {
        "colab": {
          "base_uri": "https://localhost:8080/",
          "height": 422
        },
        "id": "1sPSqxqZy3a5",
        "outputId": "69e7afe8-0978-46c5-8e2c-20fd0d5cae1a"
      },
      "execution_count": 49,
      "outputs": [
        {
          "output_type": "stream",
          "name": "stdout",
          "text": [
            "(34857, 21)\n"
          ]
        },
        {
          "output_type": "execute_result",
          "data": {
            "text/plain": [
              "       Suburb             Address  Rooms Type      Price Method SellerG  \\\n",
              "0  Abbotsford       68 Studley St      2    h        NaN     SS  Jellis   \n",
              "1  Abbotsford        85 Turner St      2    h  1480000.0      S  Biggin   \n",
              "2  Abbotsford     25 Bloomburg St      2    h  1035000.0      S  Biggin   \n",
              "3  Abbotsford  18/659 Victoria St      3    u        NaN     VB  Rounds   \n",
              "4  Abbotsford        5 Charles St      3    h  1465000.0     SP  Biggin   \n",
              "\n",
              "        Date  Distance  Postcode  ...  Bathroom  Car  Landsize  BuildingArea  \\\n",
              "0  3/09/2016       2.5    3067.0  ...       1.0  1.0     126.0           NaN   \n",
              "1  3/12/2016       2.5    3067.0  ...       1.0  1.0     202.0           NaN   \n",
              "2  4/02/2016       2.5    3067.0  ...       1.0  0.0     156.0          79.0   \n",
              "3  4/02/2016       2.5    3067.0  ...       2.0  1.0       0.0           NaN   \n",
              "4  4/03/2017       2.5    3067.0  ...       2.0  0.0     134.0         150.0   \n",
              "\n",
              "   YearBuilt         CouncilArea Lattitude  Longtitude             Regionname  \\\n",
              "0        NaN  Yarra City Council  -37.8014    144.9958  Northern Metropolitan   \n",
              "1        NaN  Yarra City Council  -37.7996    144.9984  Northern Metropolitan   \n",
              "2     1900.0  Yarra City Council  -37.8079    144.9934  Northern Metropolitan   \n",
              "3        NaN  Yarra City Council  -37.8114    145.0116  Northern Metropolitan   \n",
              "4     1900.0  Yarra City Council  -37.8093    144.9944  Northern Metropolitan   \n",
              "\n",
              "  Propertycount  \n",
              "0        4019.0  \n",
              "1        4019.0  \n",
              "2        4019.0  \n",
              "3        4019.0  \n",
              "4        4019.0  \n",
              "\n",
              "[5 rows x 21 columns]"
            ],
            "text/html": [
              "\n",
              "  <div id=\"df-37c51a44-b59b-4885-8086-278110c98418\">\n",
              "    <div class=\"colab-df-container\">\n",
              "      <div>\n",
              "<style scoped>\n",
              "    .dataframe tbody tr th:only-of-type {\n",
              "        vertical-align: middle;\n",
              "    }\n",
              "\n",
              "    .dataframe tbody tr th {\n",
              "        vertical-align: top;\n",
              "    }\n",
              "\n",
              "    .dataframe thead th {\n",
              "        text-align: right;\n",
              "    }\n",
              "</style>\n",
              "<table border=\"1\" class=\"dataframe\">\n",
              "  <thead>\n",
              "    <tr style=\"text-align: right;\">\n",
              "      <th></th>\n",
              "      <th>Suburb</th>\n",
              "      <th>Address</th>\n",
              "      <th>Rooms</th>\n",
              "      <th>Type</th>\n",
              "      <th>Price</th>\n",
              "      <th>Method</th>\n",
              "      <th>SellerG</th>\n",
              "      <th>Date</th>\n",
              "      <th>Distance</th>\n",
              "      <th>Postcode</th>\n",
              "      <th>...</th>\n",
              "      <th>Bathroom</th>\n",
              "      <th>Car</th>\n",
              "      <th>Landsize</th>\n",
              "      <th>BuildingArea</th>\n",
              "      <th>YearBuilt</th>\n",
              "      <th>CouncilArea</th>\n",
              "      <th>Lattitude</th>\n",
              "      <th>Longtitude</th>\n",
              "      <th>Regionname</th>\n",
              "      <th>Propertycount</th>\n",
              "    </tr>\n",
              "  </thead>\n",
              "  <tbody>\n",
              "    <tr>\n",
              "      <th>0</th>\n",
              "      <td>Abbotsford</td>\n",
              "      <td>68 Studley St</td>\n",
              "      <td>2</td>\n",
              "      <td>h</td>\n",
              "      <td>NaN</td>\n",
              "      <td>SS</td>\n",
              "      <td>Jellis</td>\n",
              "      <td>3/09/2016</td>\n",
              "      <td>2.5</td>\n",
              "      <td>3067.0</td>\n",
              "      <td>...</td>\n",
              "      <td>1.0</td>\n",
              "      <td>1.0</td>\n",
              "      <td>126.0</td>\n",
              "      <td>NaN</td>\n",
              "      <td>NaN</td>\n",
              "      <td>Yarra City Council</td>\n",
              "      <td>-37.8014</td>\n",
              "      <td>144.9958</td>\n",
              "      <td>Northern Metropolitan</td>\n",
              "      <td>4019.0</td>\n",
              "    </tr>\n",
              "    <tr>\n",
              "      <th>1</th>\n",
              "      <td>Abbotsford</td>\n",
              "      <td>85 Turner St</td>\n",
              "      <td>2</td>\n",
              "      <td>h</td>\n",
              "      <td>1480000.0</td>\n",
              "      <td>S</td>\n",
              "      <td>Biggin</td>\n",
              "      <td>3/12/2016</td>\n",
              "      <td>2.5</td>\n",
              "      <td>3067.0</td>\n",
              "      <td>...</td>\n",
              "      <td>1.0</td>\n",
              "      <td>1.0</td>\n",
              "      <td>202.0</td>\n",
              "      <td>NaN</td>\n",
              "      <td>NaN</td>\n",
              "      <td>Yarra City Council</td>\n",
              "      <td>-37.7996</td>\n",
              "      <td>144.9984</td>\n",
              "      <td>Northern Metropolitan</td>\n",
              "      <td>4019.0</td>\n",
              "    </tr>\n",
              "    <tr>\n",
              "      <th>2</th>\n",
              "      <td>Abbotsford</td>\n",
              "      <td>25 Bloomburg St</td>\n",
              "      <td>2</td>\n",
              "      <td>h</td>\n",
              "      <td>1035000.0</td>\n",
              "      <td>S</td>\n",
              "      <td>Biggin</td>\n",
              "      <td>4/02/2016</td>\n",
              "      <td>2.5</td>\n",
              "      <td>3067.0</td>\n",
              "      <td>...</td>\n",
              "      <td>1.0</td>\n",
              "      <td>0.0</td>\n",
              "      <td>156.0</td>\n",
              "      <td>79.0</td>\n",
              "      <td>1900.0</td>\n",
              "      <td>Yarra City Council</td>\n",
              "      <td>-37.8079</td>\n",
              "      <td>144.9934</td>\n",
              "      <td>Northern Metropolitan</td>\n",
              "      <td>4019.0</td>\n",
              "    </tr>\n",
              "    <tr>\n",
              "      <th>3</th>\n",
              "      <td>Abbotsford</td>\n",
              "      <td>18/659 Victoria St</td>\n",
              "      <td>3</td>\n",
              "      <td>u</td>\n",
              "      <td>NaN</td>\n",
              "      <td>VB</td>\n",
              "      <td>Rounds</td>\n",
              "      <td>4/02/2016</td>\n",
              "      <td>2.5</td>\n",
              "      <td>3067.0</td>\n",
              "      <td>...</td>\n",
              "      <td>2.0</td>\n",
              "      <td>1.0</td>\n",
              "      <td>0.0</td>\n",
              "      <td>NaN</td>\n",
              "      <td>NaN</td>\n",
              "      <td>Yarra City Council</td>\n",
              "      <td>-37.8114</td>\n",
              "      <td>145.0116</td>\n",
              "      <td>Northern Metropolitan</td>\n",
              "      <td>4019.0</td>\n",
              "    </tr>\n",
              "    <tr>\n",
              "      <th>4</th>\n",
              "      <td>Abbotsford</td>\n",
              "      <td>5 Charles St</td>\n",
              "      <td>3</td>\n",
              "      <td>h</td>\n",
              "      <td>1465000.0</td>\n",
              "      <td>SP</td>\n",
              "      <td>Biggin</td>\n",
              "      <td>4/03/2017</td>\n",
              "      <td>2.5</td>\n",
              "      <td>3067.0</td>\n",
              "      <td>...</td>\n",
              "      <td>2.0</td>\n",
              "      <td>0.0</td>\n",
              "      <td>134.0</td>\n",
              "      <td>150.0</td>\n",
              "      <td>1900.0</td>\n",
              "      <td>Yarra City Council</td>\n",
              "      <td>-37.8093</td>\n",
              "      <td>144.9944</td>\n",
              "      <td>Northern Metropolitan</td>\n",
              "      <td>4019.0</td>\n",
              "    </tr>\n",
              "  </tbody>\n",
              "</table>\n",
              "<p>5 rows × 21 columns</p>\n",
              "</div>\n",
              "      <button class=\"colab-df-convert\" onclick=\"convertToInteractive('df-37c51a44-b59b-4885-8086-278110c98418')\"\n",
              "              title=\"Convert this dataframe to an interactive table.\"\n",
              "              style=\"display:none;\">\n",
              "        \n",
              "  <svg xmlns=\"http://www.w3.org/2000/svg\" height=\"24px\"viewBox=\"0 0 24 24\"\n",
              "       width=\"24px\">\n",
              "    <path d=\"M0 0h24v24H0V0z\" fill=\"none\"/>\n",
              "    <path d=\"M18.56 5.44l.94 2.06.94-2.06 2.06-.94-2.06-.94-.94-2.06-.94 2.06-2.06.94zm-11 1L8.5 8.5l.94-2.06 2.06-.94-2.06-.94L8.5 2.5l-.94 2.06-2.06.94zm10 10l.94 2.06.94-2.06 2.06-.94-2.06-.94-.94-2.06-.94 2.06-2.06.94z\"/><path d=\"M17.41 7.96l-1.37-1.37c-.4-.4-.92-.59-1.43-.59-.52 0-1.04.2-1.43.59L10.3 9.45l-7.72 7.72c-.78.78-.78 2.05 0 2.83L4 21.41c.39.39.9.59 1.41.59.51 0 1.02-.2 1.41-.59l7.78-7.78 2.81-2.81c.8-.78.8-2.07 0-2.86zM5.41 20L4 18.59l7.72-7.72 1.47 1.35L5.41 20z\"/>\n",
              "  </svg>\n",
              "      </button>\n",
              "      \n",
              "  <style>\n",
              "    .colab-df-container {\n",
              "      display:flex;\n",
              "      flex-wrap:wrap;\n",
              "      gap: 12px;\n",
              "    }\n",
              "\n",
              "    .colab-df-convert {\n",
              "      background-color: #E8F0FE;\n",
              "      border: none;\n",
              "      border-radius: 50%;\n",
              "      cursor: pointer;\n",
              "      display: none;\n",
              "      fill: #1967D2;\n",
              "      height: 32px;\n",
              "      padding: 0 0 0 0;\n",
              "      width: 32px;\n",
              "    }\n",
              "\n",
              "    .colab-df-convert:hover {\n",
              "      background-color: #E2EBFA;\n",
              "      box-shadow: 0px 1px 2px rgba(60, 64, 67, 0.3), 0px 1px 3px 1px rgba(60, 64, 67, 0.15);\n",
              "      fill: #174EA6;\n",
              "    }\n",
              "\n",
              "    [theme=dark] .colab-df-convert {\n",
              "      background-color: #3B4455;\n",
              "      fill: #D2E3FC;\n",
              "    }\n",
              "\n",
              "    [theme=dark] .colab-df-convert:hover {\n",
              "      background-color: #434B5C;\n",
              "      box-shadow: 0px 1px 3px 1px rgba(0, 0, 0, 0.15);\n",
              "      filter: drop-shadow(0px 1px 2px rgba(0, 0, 0, 0.3));\n",
              "      fill: #FFFFFF;\n",
              "    }\n",
              "  </style>\n",
              "\n",
              "      <script>\n",
              "        const buttonEl =\n",
              "          document.querySelector('#df-37c51a44-b59b-4885-8086-278110c98418 button.colab-df-convert');\n",
              "        buttonEl.style.display =\n",
              "          google.colab.kernel.accessAllowed ? 'block' : 'none';\n",
              "\n",
              "        async function convertToInteractive(key) {\n",
              "          const element = document.querySelector('#df-37c51a44-b59b-4885-8086-278110c98418');\n",
              "          const dataTable =\n",
              "            await google.colab.kernel.invokeFunction('convertToInteractive',\n",
              "                                                     [key], {});\n",
              "          if (!dataTable) return;\n",
              "\n",
              "          const docLinkHtml = 'Like what you see? Visit the ' +\n",
              "            '<a target=\"_blank\" href=https://colab.research.google.com/notebooks/data_table.ipynb>data table notebook</a>'\n",
              "            + ' to learn more about interactive tables.';\n",
              "          element.innerHTML = '';\n",
              "          dataTable['output_type'] = 'display_data';\n",
              "          await google.colab.output.renderOutput(dataTable, element);\n",
              "          const docLink = document.createElement('div');\n",
              "          docLink.innerHTML = docLinkHtml;\n",
              "          element.appendChild(docLink);\n",
              "        }\n",
              "      </script>\n",
              "    </div>\n",
              "  </div>\n",
              "  "
            ]
          },
          "metadata": {},
          "execution_count": 49
        },
        {
          "output_type": "display_data",
          "data": {
            "text/plain": [
              "<IPython.core.display.Javascript object>"
            ],
            "application/javascript": [
              "\n",
              "            setTimeout(function() {\n",
              "                var nbb_cell_id = 49;\n",
              "                var nbb_unformatted_code = \"# File\\ndf = pd.read_csv(f'{root}/Melbourne_housing_FULL.csv')\\nprint(df.shape)\\ndf.head()\";\n",
              "                var nbb_formatted_code = \"# File\\ndf = pd.read_csv(f\\\"{root}/Melbourne_housing_FULL.csv\\\")\\nprint(df.shape)\\ndf.head()\";\n",
              "                var nbb_cells = Jupyter.notebook.get_cells();\n",
              "                for (var i = 0; i < nbb_cells.length; ++i) {\n",
              "                    if (nbb_cells[i].input_prompt_number == nbb_cell_id) {\n",
              "                        if (nbb_cells[i].get_text() == nbb_unformatted_code) {\n",
              "                             nbb_cells[i].set_text(nbb_formatted_code);\n",
              "                        }\n",
              "                        break;\n",
              "                    }\n",
              "                }\n",
              "            }, 500);\n",
              "            "
            ]
          },
          "metadata": {}
        }
      ]
    },
    {
      "cell_type": "markdown",
      "source": [
        "**📌 Key Details**\n",
        "\n",
        ">Suburb: 교외   \n",
        "Address: 주소   \n",
        "Rooms : 객실 수    \n",
        "Price: 호주 달러 단위 가격     \n",
        "\n",
        "**Method**   \n",
        ">S - 매각된 부동산        \n",
        "SP - 이전에 판매된 부동산 (선매물)       \n",
        "PI - 양도받은 재산      \n",
        "PN - 공개되지 않은 사전 판매    \n",
        "SN - 공개되지 않은 판매    \n",
        "NB - 무입찰   \n",
        "VB - 공급업체 입찰    \n",
        "W - 경매 전 철회    \n",
        "SA - 경매 후 판매    \n",
        "SS - 경매 가격 미공개 후 판매    \n",
        "N/A - 가격 또는 최고 입찰가를 사용할 수 없습니다. - NaN ?       \n",
        "\n",
        "**Type**    \n",
        ">br - 침실    \n",
        "h -  house, cottage, villa, semi, terrace    \n",
        "u -  unit, duplex    \n",
        "t - 타운하우스         \n",
        "dev site -  development site       \n",
        "o res - 기타 주거지   \n",
        "\n",
        "\n",
        ">SellerG: 부동산 중개인     \n",
        "Date: 판매된 날짜    \n",
        "Distance: 중심 업무 지구(central business district)로부터의 거리(km)      \n",
        "Regionname : 지역(서부, 북서부, 북부, 북동부 등)   \n",
        "Propertycount: 주변 시설 수            \n",
        "CouncilArea: 해당 지역의 관리 위원회   \n",
        "Postcode : 우편번호"
      ],
      "metadata": {
        "id": "J2JNJiv20gRw"
      }
    },
    {
      "cell_type": "code",
      "source": [
        "df.info()"
      ],
      "metadata": {
        "colab": {
          "base_uri": "https://localhost:8080/",
          "height": 528
        },
        "id": "p-Xb_Qpj-ogw",
        "outputId": "e317b43b-e09f-4e82-90af-71bc7b55a815"
      },
      "execution_count": 50,
      "outputs": [
        {
          "output_type": "stream",
          "name": "stdout",
          "text": [
            "<class 'pandas.core.frame.DataFrame'>\n",
            "RangeIndex: 34857 entries, 0 to 34856\n",
            "Data columns (total 21 columns):\n",
            " #   Column         Non-Null Count  Dtype  \n",
            "---  ------         --------------  -----  \n",
            " 0   Suburb         34857 non-null  object \n",
            " 1   Address        34857 non-null  object \n",
            " 2   Rooms          34857 non-null  int64  \n",
            " 3   Type           34857 non-null  object \n",
            " 4   Price          27247 non-null  float64\n",
            " 5   Method         34857 non-null  object \n",
            " 6   SellerG        34857 non-null  object \n",
            " 7   Date           34857 non-null  object \n",
            " 8   Distance       34856 non-null  float64\n",
            " 9   Postcode       34856 non-null  float64\n",
            " 10  Bedroom2       26640 non-null  float64\n",
            " 11  Bathroom       26631 non-null  float64\n",
            " 12  Car            26129 non-null  float64\n",
            " 13  Landsize       23047 non-null  float64\n",
            " 14  BuildingArea   13742 non-null  float64\n",
            " 15  YearBuilt      15551 non-null  float64\n",
            " 16  CouncilArea    34854 non-null  object \n",
            " 17  Lattitude      26881 non-null  float64\n",
            " 18  Longtitude     26881 non-null  float64\n",
            " 19  Regionname     34854 non-null  object \n",
            " 20  Propertycount  34854 non-null  float64\n",
            "dtypes: float64(12), int64(1), object(8)\n",
            "memory usage: 5.6+ MB\n"
          ]
        },
        {
          "output_type": "display_data",
          "data": {
            "text/plain": [
              "<IPython.core.display.Javascript object>"
            ],
            "application/javascript": [
              "\n",
              "            setTimeout(function() {\n",
              "                var nbb_cell_id = 50;\n",
              "                var nbb_unformatted_code = \"df.info()\";\n",
              "                var nbb_formatted_code = \"df.info()\";\n",
              "                var nbb_cells = Jupyter.notebook.get_cells();\n",
              "                for (var i = 0; i < nbb_cells.length; ++i) {\n",
              "                    if (nbb_cells[i].input_prompt_number == nbb_cell_id) {\n",
              "                        if (nbb_cells[i].get_text() == nbb_unformatted_code) {\n",
              "                             nbb_cells[i].set_text(nbb_formatted_code);\n",
              "                        }\n",
              "                        break;\n",
              "                    }\n",
              "                }\n",
              "            }, 500);\n",
              "            "
            ]
          },
          "metadata": {}
        }
      ]
    },
    {
      "cell_type": "code",
      "source": [
        "print('Categorical Features ')\n",
        "print(df.select_dtypes(['object']).columns)\n",
        "print()\n",
        "print('Numeric Features')\n",
        "print(df.select_dtypes(['int64','float64']).columns)"
      ],
      "metadata": {
        "colab": {
          "base_uri": "https://localhost:8080/",
          "height": 199
        },
        "id": "W3iTP_rvLeNw",
        "outputId": "4f207520-b4f0-4b3b-a34a-e098f2cdcc6b"
      },
      "execution_count": 51,
      "outputs": [
        {
          "output_type": "stream",
          "name": "stdout",
          "text": [
            "Categorical Features \n",
            "Index(['Suburb', 'Address', 'Type', 'Method', 'SellerG', 'Date', 'CouncilArea',\n",
            "       'Regionname'],\n",
            "      dtype='object')\n",
            "\n",
            "Numeric Features\n",
            "Index(['Rooms', 'Price', 'Distance', 'Postcode', 'Bedroom2', 'Bathroom', 'Car',\n",
            "       'Landsize', 'BuildingArea', 'YearBuilt', 'Lattitude', 'Longtitude',\n",
            "       'Propertycount'],\n",
            "      dtype='object')\n"
          ]
        },
        {
          "output_type": "display_data",
          "data": {
            "text/plain": [
              "<IPython.core.display.Javascript object>"
            ],
            "application/javascript": [
              "\n",
              "            setTimeout(function() {\n",
              "                var nbb_cell_id = 51;\n",
              "                var nbb_unformatted_code = \"print('Categorical Features ')\\nprint(df.select_dtypes(['object']).columns)\\nprint()\\nprint('Numeric Features')\\nprint(df.select_dtypes(['int64','float64']).columns)\";\n",
              "                var nbb_formatted_code = \"print(\\\"Categorical Features \\\")\\nprint(df.select_dtypes([\\\"object\\\"]).columns)\\nprint()\\nprint(\\\"Numeric Features\\\")\\nprint(df.select_dtypes([\\\"int64\\\", \\\"float64\\\"]).columns)\";\n",
              "                var nbb_cells = Jupyter.notebook.get_cells();\n",
              "                for (var i = 0; i < nbb_cells.length; ++i) {\n",
              "                    if (nbb_cells[i].input_prompt_number == nbb_cell_id) {\n",
              "                        if (nbb_cells[i].get_text() == nbb_unformatted_code) {\n",
              "                             nbb_cells[i].set_text(nbb_formatted_code);\n",
              "                        }\n",
              "                        break;\n",
              "                    }\n",
              "                }\n",
              "            }, 500);\n",
              "            "
            ]
          },
          "metadata": {}
        }
      ]
    },
    {
      "cell_type": "markdown",
      "source": [
        "## Split dataset "
      ],
      "metadata": {
        "id": "-mYtijBh_DI-"
      }
    },
    {
      "cell_type": "code",
      "source": [
        "X_col = df.columns.tolist()\n",
        "# print(X_col)\n",
        "X_col.remove('Price')\n",
        "\n",
        "y = df['Price']\n",
        "X = df[X_col]\n",
        "\n",
        "X.shape , y.shape"
      ],
      "metadata": {
        "colab": {
          "base_uri": "https://localhost:8080/",
          "height": 35
        },
        "id": "tfq87BZP-kP8",
        "outputId": "44293f92-abe2-425d-d50e-b80035f93e01"
      },
      "execution_count": 52,
      "outputs": [
        {
          "output_type": "execute_result",
          "data": {
            "text/plain": [
              "((34857, 20), (34857,))"
            ]
          },
          "metadata": {},
          "execution_count": 52
        },
        {
          "output_type": "display_data",
          "data": {
            "text/plain": [
              "<IPython.core.display.Javascript object>"
            ],
            "application/javascript": [
              "\n",
              "            setTimeout(function() {\n",
              "                var nbb_cell_id = 52;\n",
              "                var nbb_unformatted_code = \"X_col = df.columns.tolist()\\n# print(X_col)\\nX_col.remove('Price')\\n\\ny = df['Price']\\nX = df[X_col]\\n\\nX.shape , y.shape\";\n",
              "                var nbb_formatted_code = \"X_col = df.columns.tolist()\\n# print(X_col)\\nX_col.remove(\\\"Price\\\")\\n\\ny = df[\\\"Price\\\"]\\nX = df[X_col]\\n\\nX.shape, y.shape\";\n",
              "                var nbb_cells = Jupyter.notebook.get_cells();\n",
              "                for (var i = 0; i < nbb_cells.length; ++i) {\n",
              "                    if (nbb_cells[i].input_prompt_number == nbb_cell_id) {\n",
              "                        if (nbb_cells[i].get_text() == nbb_unformatted_code) {\n",
              "                             nbb_cells[i].set_text(nbb_formatted_code);\n",
              "                        }\n",
              "                        break;\n",
              "                    }\n",
              "                }\n",
              "            }, 500);\n",
              "            "
            ]
          },
          "metadata": {}
        }
      ]
    },
    {
      "cell_type": "code",
      "source": [
        "# Split the training data and test data\n",
        "x_train, x_test, y_train, y_test = train_test_split(X , y , test_size = 0.2 , random_state = 42)\n",
        "x_train.shape, x_test.shape, y_train.shape, y_test.shape"
      ],
      "metadata": {
        "colab": {
          "base_uri": "https://localhost:8080/",
          "height": 35
        },
        "id": "9n0o6-OI_uZH",
        "outputId": "c687fe6a-14f5-4e08-c29c-709fc54b2d01"
      },
      "execution_count": 53,
      "outputs": [
        {
          "output_type": "execute_result",
          "data": {
            "text/plain": [
              "((27885, 20), (6972, 20), (27885,), (6972,))"
            ]
          },
          "metadata": {},
          "execution_count": 53
        },
        {
          "output_type": "display_data",
          "data": {
            "text/plain": [
              "<IPython.core.display.Javascript object>"
            ],
            "application/javascript": [
              "\n",
              "            setTimeout(function() {\n",
              "                var nbb_cell_id = 53;\n",
              "                var nbb_unformatted_code = \"# Split the training data and test data\\nx_train, x_test, y_train, y_test = train_test_split(X , y , test_size = 0.2 , random_state = 42)\\nx_train.shape, x_test.shape, y_train.shape, y_test.shape\";\n",
              "                var nbb_formatted_code = \"# Split the training data and test data\\nx_train, x_test, y_train, y_test = train_test_split(\\n    X, y, test_size=0.2, random_state=42\\n)\\nx_train.shape, x_test.shape, y_train.shape, y_test.shape\";\n",
              "                var nbb_cells = Jupyter.notebook.get_cells();\n",
              "                for (var i = 0; i < nbb_cells.length; ++i) {\n",
              "                    if (nbb_cells[i].input_prompt_number == nbb_cell_id) {\n",
              "                        if (nbb_cells[i].get_text() == nbb_unformatted_code) {\n",
              "                             nbb_cells[i].set_text(nbb_formatted_code);\n",
              "                        }\n",
              "                        break;\n",
              "                    }\n",
              "                }\n",
              "            }, 500);\n",
              "            "
            ]
          },
          "metadata": {}
        }
      ]
    },
    {
      "cell_type": "code",
      "source": [
        "train = x_train\n",
        "train['Price'] = y_train\n",
        "train.shape"
      ],
      "metadata": {
        "colab": {
          "base_uri": "https://localhost:8080/",
          "height": 35
        },
        "id": "lxk1NINVAHWA",
        "outputId": "6fe297cb-1df1-4be6-c6b7-6fc432697be1"
      },
      "execution_count": 54,
      "outputs": [
        {
          "output_type": "execute_result",
          "data": {
            "text/plain": [
              "(27885, 21)"
            ]
          },
          "metadata": {},
          "execution_count": 54
        },
        {
          "output_type": "display_data",
          "data": {
            "text/plain": [
              "<IPython.core.display.Javascript object>"
            ],
            "application/javascript": [
              "\n",
              "            setTimeout(function() {\n",
              "                var nbb_cell_id = 54;\n",
              "                var nbb_unformatted_code = \"train = x_train\\ntrain['Price'] = y_train\\ntrain.shape\";\n",
              "                var nbb_formatted_code = \"train = x_train\\ntrain[\\\"Price\\\"] = y_train\\ntrain.shape\";\n",
              "                var nbb_cells = Jupyter.notebook.get_cells();\n",
              "                for (var i = 0; i < nbb_cells.length; ++i) {\n",
              "                    if (nbb_cells[i].input_prompt_number == nbb_cell_id) {\n",
              "                        if (nbb_cells[i].get_text() == nbb_unformatted_code) {\n",
              "                             nbb_cells[i].set_text(nbb_formatted_code);\n",
              "                        }\n",
              "                        break;\n",
              "                    }\n",
              "                }\n",
              "            }, 500);\n",
              "            "
            ]
          },
          "metadata": {}
        }
      ]
    },
    {
      "cell_type": "code",
      "source": [
        "# making train dataset\n",
        "train = train.reset_index(drop=True)"
      ],
      "metadata": {
        "id": "JBitD73xAiCI",
        "colab": {
          "base_uri": "https://localhost:8080/",
          "height": 17
        },
        "outputId": "3a3d479c-39da-4bf2-ae99-1d50f9798107"
      },
      "execution_count": 55,
      "outputs": [
        {
          "output_type": "display_data",
          "data": {
            "text/plain": [
              "<IPython.core.display.Javascript object>"
            ],
            "application/javascript": [
              "\n",
              "            setTimeout(function() {\n",
              "                var nbb_cell_id = 55;\n",
              "                var nbb_unformatted_code = \"# making train dataset\\ntrain = train.reset_index(drop=True)\";\n",
              "                var nbb_formatted_code = \"# making train dataset\\ntrain = train.reset_index(drop=True)\";\n",
              "                var nbb_cells = Jupyter.notebook.get_cells();\n",
              "                for (var i = 0; i < nbb_cells.length; ++i) {\n",
              "                    if (nbb_cells[i].input_prompt_number == nbb_cell_id) {\n",
              "                        if (nbb_cells[i].get_text() == nbb_unformatted_code) {\n",
              "                             nbb_cells[i].set_text(nbb_formatted_code);\n",
              "                        }\n",
              "                        break;\n",
              "                    }\n",
              "                }\n",
              "            }, 500);\n",
              "            "
            ]
          },
          "metadata": {}
        }
      ]
    },
    {
      "cell_type": "code",
      "source": [
        "test = x_test\n",
        "test['Price'] = y_test\n",
        "test.shape"
      ],
      "metadata": {
        "colab": {
          "base_uri": "https://localhost:8080/",
          "height": 35
        },
        "id": "XOKOjd0HAv7J",
        "outputId": "424ad122-afc1-40e4-cfe7-287de61ae2ab"
      },
      "execution_count": 56,
      "outputs": [
        {
          "output_type": "execute_result",
          "data": {
            "text/plain": [
              "(6972, 21)"
            ]
          },
          "metadata": {},
          "execution_count": 56
        },
        {
          "output_type": "display_data",
          "data": {
            "text/plain": [
              "<IPython.core.display.Javascript object>"
            ],
            "application/javascript": [
              "\n",
              "            setTimeout(function() {\n",
              "                var nbb_cell_id = 56;\n",
              "                var nbb_unformatted_code = \"test = x_test\\ntest['Price'] = y_test\\ntest.shape\";\n",
              "                var nbb_formatted_code = \"test = x_test\\ntest[\\\"Price\\\"] = y_test\\ntest.shape\";\n",
              "                var nbb_cells = Jupyter.notebook.get_cells();\n",
              "                for (var i = 0; i < nbb_cells.length; ++i) {\n",
              "                    if (nbb_cells[i].input_prompt_number == nbb_cell_id) {\n",
              "                        if (nbb_cells[i].get_text() == nbb_unformatted_code) {\n",
              "                             nbb_cells[i].set_text(nbb_formatted_code);\n",
              "                        }\n",
              "                        break;\n",
              "                    }\n",
              "                }\n",
              "            }, 500);\n",
              "            "
            ]
          },
          "metadata": {}
        }
      ]
    },
    {
      "cell_type": "markdown",
      "source": [
        "# EDA "
      ],
      "metadata": {
        "id": "sEiR15jYA7t1"
      }
    },
    {
      "cell_type": "code",
      "source": [
        "train.shape, test.shape"
      ],
      "metadata": {
        "colab": {
          "base_uri": "https://localhost:8080/",
          "height": 35
        },
        "id": "irqVBcStA-ow",
        "outputId": "0af16be8-1e70-43ae-b13d-9075025bdb79"
      },
      "execution_count": 57,
      "outputs": [
        {
          "output_type": "execute_result",
          "data": {
            "text/plain": [
              "((27885, 21), (6972, 21))"
            ]
          },
          "metadata": {},
          "execution_count": 57
        },
        {
          "output_type": "display_data",
          "data": {
            "text/plain": [
              "<IPython.core.display.Javascript object>"
            ],
            "application/javascript": [
              "\n",
              "            setTimeout(function() {\n",
              "                var nbb_cell_id = 57;\n",
              "                var nbb_unformatted_code = \"train.shape, test.shape\";\n",
              "                var nbb_formatted_code = \"train.shape, test.shape\";\n",
              "                var nbb_cells = Jupyter.notebook.get_cells();\n",
              "                for (var i = 0; i < nbb_cells.length; ++i) {\n",
              "                    if (nbb_cells[i].input_prompt_number == nbb_cell_id) {\n",
              "                        if (nbb_cells[i].get_text() == nbb_unformatted_code) {\n",
              "                             nbb_cells[i].set_text(nbb_formatted_code);\n",
              "                        }\n",
              "                        break;\n",
              "                    }\n",
              "                }\n",
              "            }, 500);\n",
              "            "
            ]
          },
          "metadata": {}
        }
      ]
    },
    {
      "cell_type": "markdown",
      "source": [
        "## joining train and test set"
      ],
      "metadata": {
        "id": "1LXWYPbcEHhQ"
      }
    },
    {
      "cell_type": "code",
      "source": [
        "df = pd.concat([train,test], axis=0).reset_index(drop=True)\n",
        "df.info()"
      ],
      "metadata": {
        "colab": {
          "base_uri": "https://localhost:8080/",
          "height": 528
        },
        "id": "c3K4XBYcDrSm",
        "outputId": "21dddf75-a6c4-4ccc-e0f1-9716cdc7392f"
      },
      "execution_count": 58,
      "outputs": [
        {
          "output_type": "stream",
          "name": "stdout",
          "text": [
            "<class 'pandas.core.frame.DataFrame'>\n",
            "RangeIndex: 34857 entries, 0 to 34856\n",
            "Data columns (total 21 columns):\n",
            " #   Column         Non-Null Count  Dtype  \n",
            "---  ------         --------------  -----  \n",
            " 0   Suburb         34857 non-null  object \n",
            " 1   Address        34857 non-null  object \n",
            " 2   Rooms          34857 non-null  int64  \n",
            " 3   Type           34857 non-null  object \n",
            " 4   Method         34857 non-null  object \n",
            " 5   SellerG        34857 non-null  object \n",
            " 6   Date           34857 non-null  object \n",
            " 7   Distance       34856 non-null  float64\n",
            " 8   Postcode       34856 non-null  float64\n",
            " 9   Bedroom2       26640 non-null  float64\n",
            " 10  Bathroom       26631 non-null  float64\n",
            " 11  Car            26129 non-null  float64\n",
            " 12  Landsize       23047 non-null  float64\n",
            " 13  BuildingArea   13742 non-null  float64\n",
            " 14  YearBuilt      15551 non-null  float64\n",
            " 15  CouncilArea    34854 non-null  object \n",
            " 16  Lattitude      26881 non-null  float64\n",
            " 17  Longtitude     26881 non-null  float64\n",
            " 18  Regionname     34854 non-null  object \n",
            " 19  Propertycount  34854 non-null  float64\n",
            " 20  Price          27247 non-null  float64\n",
            "dtypes: float64(12), int64(1), object(8)\n",
            "memory usage: 5.6+ MB\n"
          ]
        },
        {
          "output_type": "display_data",
          "data": {
            "text/plain": [
              "<IPython.core.display.Javascript object>"
            ],
            "application/javascript": [
              "\n",
              "            setTimeout(function() {\n",
              "                var nbb_cell_id = 58;\n",
              "                var nbb_unformatted_code = \"df = pd.concat([train,test], axis=0).reset_index(drop=True)\\ndf.info()\";\n",
              "                var nbb_formatted_code = \"df = pd.concat([train, test], axis=0).reset_index(drop=True)\\ndf.info()\";\n",
              "                var nbb_cells = Jupyter.notebook.get_cells();\n",
              "                for (var i = 0; i < nbb_cells.length; ++i) {\n",
              "                    if (nbb_cells[i].input_prompt_number == nbb_cell_id) {\n",
              "                        if (nbb_cells[i].get_text() == nbb_unformatted_code) {\n",
              "                             nbb_cells[i].set_text(nbb_formatted_code);\n",
              "                        }\n",
              "                        break;\n",
              "                    }\n",
              "                }\n",
              "            }, 500);\n",
              "            "
            ]
          },
          "metadata": {}
        }
      ]
    },
    {
      "cell_type": "markdown",
      "source": [
        "## check for null and missing values"
      ],
      "metadata": {
        "id": "cfygA_7EEGX3"
      }
    },
    {
      "cell_type": "code",
      "source": [
        "df.isnull().mean()*100"
      ],
      "metadata": {
        "colab": {
          "base_uri": "https://localhost:8080/",
          "height": 418
        },
        "id": "JM9Xkyd4D6df",
        "outputId": "9bf6a69a-a07d-40b2-ab93-53bbcc7accba"
      },
      "execution_count": 59,
      "outputs": [
        {
          "output_type": "execute_result",
          "data": {
            "text/plain": [
              "Suburb            0.000000\n",
              "Address           0.000000\n",
              "Rooms             0.000000\n",
              "Type              0.000000\n",
              "Method            0.000000\n",
              "SellerG           0.000000\n",
              "Date              0.000000\n",
              "Distance          0.002869\n",
              "Postcode          0.002869\n",
              "Bedroom2         23.573457\n",
              "Bathroom         23.599277\n",
              "Car              25.039447\n",
              "Landsize         33.881286\n",
              "BuildingArea     60.576068\n",
              "YearBuilt        55.386293\n",
              "CouncilArea       0.008607\n",
              "Lattitude        22.882061\n",
              "Longtitude       22.882061\n",
              "Regionname        0.008607\n",
              "Propertycount     0.008607\n",
              "Price            21.832057\n",
              "dtype: float64"
            ]
          },
          "metadata": {},
          "execution_count": 59
        },
        {
          "output_type": "display_data",
          "data": {
            "text/plain": [
              "<IPython.core.display.Javascript object>"
            ],
            "application/javascript": [
              "\n",
              "            setTimeout(function() {\n",
              "                var nbb_cell_id = 59;\n",
              "                var nbb_unformatted_code = \"df.isnull().mean()*100\";\n",
              "                var nbb_formatted_code = \"df.isnull().mean() * 100\";\n",
              "                var nbb_cells = Jupyter.notebook.get_cells();\n",
              "                for (var i = 0; i < nbb_cells.length; ++i) {\n",
              "                    if (nbb_cells[i].input_prompt_number == nbb_cell_id) {\n",
              "                        if (nbb_cells[i].get_text() == nbb_unformatted_code) {\n",
              "                             nbb_cells[i].set_text(nbb_formatted_code);\n",
              "                        }\n",
              "                        break;\n",
              "                    }\n",
              "                }\n",
              "            }, 500);\n",
              "            "
            ]
          },
          "metadata": {}
        }
      ]
    },
    {
      "cell_type": "markdown",
      "source": [
        "### Missing Values"
      ],
      "metadata": {
        "id": "R6ayqvNAXFIf"
      }
    },
    {
      "cell_type": "code",
      "source": [
        "df[~df.isnull()].isnull().sum()"
      ],
      "metadata": {
        "colab": {
          "base_uri": "https://localhost:8080/",
          "height": 418
        },
        "id": "l1JJd51tbAk5",
        "outputId": "f488b815-4067-466a-9571-3c9d4e25c805"
      },
      "execution_count": 60,
      "outputs": [
        {
          "output_type": "execute_result",
          "data": {
            "text/plain": [
              "Suburb               0\n",
              "Address              0\n",
              "Rooms                0\n",
              "Type                 0\n",
              "Method               0\n",
              "SellerG              0\n",
              "Date                 0\n",
              "Distance             1\n",
              "Postcode             1\n",
              "Bedroom2          8217\n",
              "Bathroom          8226\n",
              "Car               8728\n",
              "Landsize         11810\n",
              "BuildingArea     21115\n",
              "YearBuilt        19306\n",
              "CouncilArea          3\n",
              "Lattitude         7976\n",
              "Longtitude        7976\n",
              "Regionname           3\n",
              "Propertycount        3\n",
              "Price             7610\n",
              "dtype: int64"
            ]
          },
          "metadata": {},
          "execution_count": 60
        },
        {
          "output_type": "display_data",
          "data": {
            "text/plain": [
              "<IPython.core.display.Javascript object>"
            ],
            "application/javascript": [
              "\n",
              "            setTimeout(function() {\n",
              "                var nbb_cell_id = 60;\n",
              "                var nbb_unformatted_code = \"df[~df.isnull()].isnull().sum()\";\n",
              "                var nbb_formatted_code = \"df[~df.isnull()].isnull().sum()\";\n",
              "                var nbb_cells = Jupyter.notebook.get_cells();\n",
              "                for (var i = 0; i < nbb_cells.length; ++i) {\n",
              "                    if (nbb_cells[i].input_prompt_number == nbb_cell_id) {\n",
              "                        if (nbb_cells[i].get_text() == nbb_unformatted_code) {\n",
              "                             nbb_cells[i].set_text(nbb_formatted_code);\n",
              "                        }\n",
              "                        break;\n",
              "                    }\n",
              "                }\n",
              "            }, 500);\n",
              "            "
            ]
          },
          "metadata": {}
        }
      ]
    },
    {
      "cell_type": "code",
      "source": [
        "#checking missing values\n",
        "missing = df[~df.isnull()].isnull().sum()\n",
        "missing[missing > 0].sort_values(ascending = False).plot.bar(color=colors[7])\n",
        "plt.title('Missing Data');"
      ],
      "metadata": {
        "colab": {
          "base_uri": "https://localhost:8080/",
          "height": 341
        },
        "id": "CjxRMdg4XGwO",
        "outputId": "b298c113-516d-4459-b9da-864be8758ef6"
      },
      "execution_count": 61,
      "outputs": [
        {
          "output_type": "display_data",
          "data": {
            "text/plain": [
              "<Figure size 432x288 with 1 Axes>"
            ],
            "image/png": "[encoded data removed]"
          },
          "metadata": {
            "needs_background": "light"
          }
        },
        {
          "output_type": "display_data",
          "data": {
            "text/plain": [
              "<IPython.core.display.Javascript object>"
            ],
            "application/javascript": [
              "\n",
              "            setTimeout(function() {\n",
              "                var nbb_cell_id = 61;\n",
              "                var nbb_unformatted_code = \"#checking missing values\\nmissing = df[~df.isnull()].isnull().sum()\\nmissing[missing > 0].sort_values(ascending = False).plot.bar(color=colors[7])\\nplt.title('Missing Data');\";\n",
              "                var nbb_formatted_code = \"# checking missing values\\nmissing = df[~df.isnull()].isnull().sum()\\nmissing[missing > 0].sort_values(ascending=False).plot.bar(color=colors[7])\\nplt.title(\\\"Missing Data\\\")\";\n",
              "                var nbb_cells = Jupyter.notebook.get_cells();\n",
              "                for (var i = 0; i < nbb_cells.length; ++i) {\n",
              "                    if (nbb_cells[i].input_prompt_number == nbb_cell_id) {\n",
              "                        if (nbb_cells[i].get_text() == nbb_unformatted_code) {\n",
              "                             nbb_cells[i].set_text(nbb_formatted_code);\n",
              "                        }\n",
              "                        break;\n",
              "                    }\n",
              "                }\n",
              "            }, 500);\n",
              "            "
            ]
          },
          "metadata": {}
        }
      ]
    },
    {
      "cell_type": "markdown",
      "source": [
        "## 기술 통계량"
      ],
      "metadata": {
        "id": "rGZCqCI2VnuQ"
      }
    },
    {
      "cell_type": "code",
      "source": [
        "df.describe().T.style.bar(subset=['mean'],color=colors[3]).background_gradient(subset=['std','50%','max'])"
      ],
      "metadata": {
        "colab": {
          "base_uri": "https://localhost:8080/",
          "height": 457
        },
        "id": "AnzunGQCUExQ",
        "outputId": "b998e1dd-7548-4993-dd55-63c1bfc21150"
      },
      "execution_count": 62,
      "outputs": [
        {
          "output_type": "execute_result",
          "data": {
            "text/plain": [
              "<pandas.io.formats.style.Styler at 0x7fa761a98eb0>"
            ],
            "text/html": [
              "<style type=\"text/css\">\n",
              "#T_ac97f_row0_col1, #T_ac97f_row1_col1, #T_ac97f_row3_col1, #T_ac97f_row4_col1, #T_ac97f_row5_col1, #T_ac97f_row7_col1, #T_ac97f_row10_col1 {\n",
              "  width: 10em;\n",
              "  height: 80%;\n",
              "  background: linear-gradient(90deg,#8FE195 0.0%, transparent 0.0%);\n",
              "}\n",
              "#T_ac97f_row0_col2, #T_ac97f_row0_col5, #T_ac97f_row0_col7, #T_ac97f_row1_col2, #T_ac97f_row1_col5, #T_ac97f_row1_col7, #T_ac97f_row2_col2, #T_ac97f_row2_col5, #T_ac97f_row2_col7, #T_ac97f_row3_col2, #T_ac97f_row3_col5, #T_ac97f_row3_col7, #T_ac97f_row4_col2, #T_ac97f_row4_col5, #T_ac97f_row4_col7, #T_ac97f_row5_col2, #T_ac97f_row5_col5, #T_ac97f_row5_col7, #T_ac97f_row6_col5, #T_ac97f_row7_col2, #T_ac97f_row7_col5, #T_ac97f_row8_col2, #T_ac97f_row8_col5, #T_ac97f_row8_col7, #T_ac97f_row9_col2, #T_ac97f_row9_col5, #T_ac97f_row9_col7, #T_ac97f_row10_col2, #T_ac97f_row10_col5, #T_ac97f_row10_col7, #T_ac97f_row11_col7 {\n",
              "  background-color: #fff7fb;\n",
              "  color: #000000;\n",
              "}\n",
              "#T_ac97f_row2_col1 {\n",
              "  width: 10em;\n",
              "  height: 80%;\n",
              "  background: linear-gradient(90deg,#8FE195 0.3%, transparent 0.3%);\n",
              "}\n",
              "#T_ac97f_row6_col1 {\n",
              "  width: 10em;\n",
              "  height: 80%;\n",
              "  background: linear-gradient(90deg,#8FE195 0.1%, transparent 0.1%);\n",
              "}\n",
              "#T_ac97f_row6_col2, #T_ac97f_row7_col7, #T_ac97f_row11_col2 {\n",
              "  background-color: #fef6fb;\n",
              "  color: #000000;\n",
              "}\n",
              "#T_ac97f_row6_col7 {\n",
              "  background-color: #faf2f8;\n",
              "  color: #000000;\n",
              "}\n",
              "#T_ac97f_row8_col1 {\n",
              "  width: 10em;\n",
              "  height: 80%;\n",
              "  background: linear-gradient(90deg,#8FE195 0.2%, transparent 0.2%);\n",
              "}\n",
              "#T_ac97f_row9_col1 {\n",
              "  width: 10em;\n",
              "  height: 80%;\n",
              "}\n",
              "#T_ac97f_row11_col1 {\n",
              "  width: 10em;\n",
              "  height: 80%;\n",
              "  background: linear-gradient(90deg,#8FE195 0.7%, transparent 0.7%);\n",
              "}\n",
              "#T_ac97f_row11_col5 {\n",
              "  background-color: #fef6fa;\n",
              "  color: #000000;\n",
              "}\n",
              "#T_ac97f_row12_col1 {\n",
              "  width: 10em;\n",
              "  height: 80%;\n",
              "  background: linear-gradient(90deg,#8FE195 100.0%, transparent 100.0%);\n",
              "}\n",
              "#T_ac97f_row12_col2, #T_ac97f_row12_col5, #T_ac97f_row12_col7 {\n",
              "  background-color: #023858;\n",
              "  color: #f1f1f1;\n",
              "}\n",
              "</style>\n",
              "<table id=\"T_ac97f_\" class=\"dataframe\">\n",
              "  <thead>\n",
              "    <tr>\n",
              "      <th class=\"blank level0\" >&nbsp;</th>\n",
              "      <th class=\"col_heading level0 col0\" >count</th>\n",
              "      <th class=\"col_heading level0 col1\" >mean</th>\n",
              "      <th class=\"col_heading level0 col2\" >std</th>\n",
              "      <th class=\"col_heading level0 col3\" >min</th>\n",
              "      <th class=\"col_heading level0 col4\" >25%</th>\n",
              "      <th class=\"col_heading level0 col5\" >50%</th>\n",
              "      <th class=\"col_heading level0 col6\" >75%</th>\n",
              "      <th class=\"col_heading level0 col7\" >max</th>\n",
              "    </tr>\n",
              "  </thead>\n",
              "  <tbody>\n",
              "    <tr>\n",
              "      <th id=\"T_ac97f_level0_row0\" class=\"row_heading level0 row0\" >Rooms</th>\n",
              "      <td id=\"T_ac97f_row0_col0\" class=\"data row0 col0\" >34857.000000</td>\n",
              "      <td id=\"T_ac97f_row0_col1\" class=\"data row0 col1\" >3.031012</td>\n",
              "      <td id=\"T_ac97f_row0_col2\" class=\"data row0 col2\" >0.969933</td>\n",
              "      <td id=\"T_ac97f_row0_col3\" class=\"data row0 col3\" >1.000000</td>\n",
              "      <td id=\"T_ac97f_row0_col4\" class=\"data row0 col4\" >2.000000</td>\n",
              "      <td id=\"T_ac97f_row0_col5\" class=\"data row0 col5\" >3.000000</td>\n",
              "      <td id=\"T_ac97f_row0_col6\" class=\"data row0 col6\" >4.000000</td>\n",
              "      <td id=\"T_ac97f_row0_col7\" class=\"data row0 col7\" >16.000000</td>\n",
              "    </tr>\n",
              "    <tr>\n",
              "      <th id=\"T_ac97f_level0_row1\" class=\"row_heading level0 row1\" >Distance</th>\n",
              "      <td id=\"T_ac97f_row1_col0\" class=\"data row1 col0\" >34856.000000</td>\n",
              "      <td id=\"T_ac97f_row1_col1\" class=\"data row1 col1\" >11.184929</td>\n",
              "      <td id=\"T_ac97f_row1_col2\" class=\"data row1 col2\" >6.788892</td>\n",
              "      <td id=\"T_ac97f_row1_col3\" class=\"data row1 col3\" >0.000000</td>\n",
              "      <td id=\"T_ac97f_row1_col4\" class=\"data row1 col4\" >6.400000</td>\n",
              "      <td id=\"T_ac97f_row1_col5\" class=\"data row1 col5\" >10.300000</td>\n",
              "      <td id=\"T_ac97f_row1_col6\" class=\"data row1 col6\" >14.000000</td>\n",
              "      <td id=\"T_ac97f_row1_col7\" class=\"data row1 col7\" >48.100000</td>\n",
              "    </tr>\n",
              "    <tr>\n",
              "      <th id=\"T_ac97f_level0_row2\" class=\"row_heading level0 row2\" >Postcode</th>\n",
              "      <td id=\"T_ac97f_row2_col0\" class=\"data row2 col0\" >34856.000000</td>\n",
              "      <td id=\"T_ac97f_row2_col1\" class=\"data row2 col1\" >3116.062859</td>\n",
              "      <td id=\"T_ac97f_row2_col2\" class=\"data row2 col2\" >109.023903</td>\n",
              "      <td id=\"T_ac97f_row2_col3\" class=\"data row2 col3\" >3000.000000</td>\n",
              "      <td id=\"T_ac97f_row2_col4\" class=\"data row2 col4\" >3051.000000</td>\n",
              "      <td id=\"T_ac97f_row2_col5\" class=\"data row2 col5\" >3103.000000</td>\n",
              "      <td id=\"T_ac97f_row2_col6\" class=\"data row2 col6\" >3156.000000</td>\n",
              "      <td id=\"T_ac97f_row2_col7\" class=\"data row2 col7\" >3978.000000</td>\n",
              "    </tr>\n",
              "    <tr>\n",
              "      <th id=\"T_ac97f_level0_row3\" class=\"row_heading level0 row3\" >Bedroom2</th>\n",
              "      <td id=\"T_ac97f_row3_col0\" class=\"data row3 col0\" >26640.000000</td>\n",
              "      <td id=\"T_ac97f_row3_col1\" class=\"data row3 col1\" >3.084647</td>\n",
              "      <td id=\"T_ac97f_row3_col2\" class=\"data row3 col2\" >0.980690</td>\n",
              "      <td id=\"T_ac97f_row3_col3\" class=\"data row3 col3\" >0.000000</td>\n",
              "      <td id=\"T_ac97f_row3_col4\" class=\"data row3 col4\" >2.000000</td>\n",
              "      <td id=\"T_ac97f_row3_col5\" class=\"data row3 col5\" >3.000000</td>\n",
              "      <td id=\"T_ac97f_row3_col6\" class=\"data row3 col6\" >4.000000</td>\n",
              "      <td id=\"T_ac97f_row3_col7\" class=\"data row3 col7\" >30.000000</td>\n",
              "    </tr>\n",
              "    <tr>\n",
              "      <th id=\"T_ac97f_level0_row4\" class=\"row_heading level0 row4\" >Bathroom</th>\n",
              "      <td id=\"T_ac97f_row4_col0\" class=\"data row4 col0\" >26631.000000</td>\n",
              "      <td id=\"T_ac97f_row4_col1\" class=\"data row4 col1\" >1.624798</td>\n",
              "      <td id=\"T_ac97f_row4_col2\" class=\"data row4 col2\" >0.724212</td>\n",
              "      <td id=\"T_ac97f_row4_col3\" class=\"data row4 col3\" >0.000000</td>\n",
              "      <td id=\"T_ac97f_row4_col4\" class=\"data row4 col4\" >1.000000</td>\n",
              "      <td id=\"T_ac97f_row4_col5\" class=\"data row4 col5\" >2.000000</td>\n",
              "      <td id=\"T_ac97f_row4_col6\" class=\"data row4 col6\" >2.000000</td>\n",
              "      <td id=\"T_ac97f_row4_col7\" class=\"data row4 col7\" >12.000000</td>\n",
              "    </tr>\n",
              "    <tr>\n",
              "      <th id=\"T_ac97f_level0_row5\" class=\"row_heading level0 row5\" >Car</th>\n",
              "      <td id=\"T_ac97f_row5_col0\" class=\"data row5 col0\" >26129.000000</td>\n",
              "      <td id=\"T_ac97f_row5_col1\" class=\"data row5 col1\" >1.728845</td>\n",
              "      <td id=\"T_ac97f_row5_col2\" class=\"data row5 col2\" >1.010771</td>\n",
              "      <td id=\"T_ac97f_row5_col3\" class=\"data row5 col3\" >0.000000</td>\n",
              "      <td id=\"T_ac97f_row5_col4\" class=\"data row5 col4\" >1.000000</td>\n",
              "      <td id=\"T_ac97f_row5_col5\" class=\"data row5 col5\" >2.000000</td>\n",
              "      <td id=\"T_ac97f_row5_col6\" class=\"data row5 col6\" >2.000000</td>\n",
              "      <td id=\"T_ac97f_row5_col7\" class=\"data row5 col7\" >26.000000</td>\n",
              "    </tr>\n",
              "    <tr>\n",
              "      <th id=\"T_ac97f_level0_row6\" class=\"row_heading level0 row6\" >Landsize</th>\n",
              "      <td id=\"T_ac97f_row6_col0\" class=\"data row6 col0\" >23047.000000</td>\n",
              "      <td id=\"T_ac97f_row6_col1\" class=\"data row6 col1\" >593.598993</td>\n",
              "      <td id=\"T_ac97f_row6_col2\" class=\"data row6 col2\" >3398.841946</td>\n",
              "      <td id=\"T_ac97f_row6_col3\" class=\"data row6 col3\" >0.000000</td>\n",
              "      <td id=\"T_ac97f_row6_col4\" class=\"data row6 col4\" >224.000000</td>\n",
              "      <td id=\"T_ac97f_row6_col5\" class=\"data row6 col5\" >521.000000</td>\n",
              "      <td id=\"T_ac97f_row6_col6\" class=\"data row6 col6\" >670.000000</td>\n",
              "      <td id=\"T_ac97f_row6_col7\" class=\"data row6 col7\" >433014.000000</td>\n",
              "    </tr>\n",
              "    <tr>\n",
              "      <th id=\"T_ac97f_level0_row7\" class=\"row_heading level0 row7\" >BuildingArea</th>\n",
              "      <td id=\"T_ac97f_row7_col0\" class=\"data row7 col0\" >13742.000000</td>\n",
              "      <td id=\"T_ac97f_row7_col1\" class=\"data row7 col1\" >160.256400</td>\n",
              "      <td id=\"T_ac97f_row7_col2\" class=\"data row7 col2\" >401.267060</td>\n",
              "      <td id=\"T_ac97f_row7_col3\" class=\"data row7 col3\" >0.000000</td>\n",
              "      <td id=\"T_ac97f_row7_col4\" class=\"data row7 col4\" >102.000000</td>\n",
              "      <td id=\"T_ac97f_row7_col5\" class=\"data row7 col5\" >136.000000</td>\n",
              "      <td id=\"T_ac97f_row7_col6\" class=\"data row7 col6\" >188.000000</td>\n",
              "      <td id=\"T_ac97f_row7_col7\" class=\"data row7 col7\" >44515.000000</td>\n",
              "    </tr>\n",
              "    <tr>\n",
              "      <th id=\"T_ac97f_level0_row8\" class=\"row_heading level0 row8\" >YearBuilt</th>\n",
              "      <td id=\"T_ac97f_row8_col0\" class=\"data row8 col0\" >15551.000000</td>\n",
              "      <td id=\"T_ac97f_row8_col1\" class=\"data row8 col1\" >1965.289885</td>\n",
              "      <td id=\"T_ac97f_row8_col2\" class=\"data row8 col2\" >37.328178</td>\n",
              "      <td id=\"T_ac97f_row8_col3\" class=\"data row8 col3\" >1196.000000</td>\n",
              "      <td id=\"T_ac97f_row8_col4\" class=\"data row8 col4\" >1940.000000</td>\n",
              "      <td id=\"T_ac97f_row8_col5\" class=\"data row8 col5\" >1970.000000</td>\n",
              "      <td id=\"T_ac97f_row8_col6\" class=\"data row8 col6\" >2000.000000</td>\n",
              "      <td id=\"T_ac97f_row8_col7\" class=\"data row8 col7\" >2106.000000</td>\n",
              "    </tr>\n",
              "    <tr>\n",
              "      <th id=\"T_ac97f_level0_row9\" class=\"row_heading level0 row9\" >Lattitude</th>\n",
              "      <td id=\"T_ac97f_row9_col0\" class=\"data row9 col0\" >26881.000000</td>\n",
              "      <td id=\"T_ac97f_row9_col1\" class=\"data row9 col1\" >-37.810634</td>\n",
              "      <td id=\"T_ac97f_row9_col2\" class=\"data row9 col2\" >0.090279</td>\n",
              "      <td id=\"T_ac97f_row9_col3\" class=\"data row9 col3\" >-38.190430</td>\n",
              "      <td id=\"T_ac97f_row9_col4\" class=\"data row9 col4\" >-37.862950</td>\n",
              "      <td id=\"T_ac97f_row9_col5\" class=\"data row9 col5\" >-37.807600</td>\n",
              "      <td id=\"T_ac97f_row9_col6\" class=\"data row9 col6\" >-37.754100</td>\n",
              "      <td id=\"T_ac97f_row9_col7\" class=\"data row9 col7\" >-37.390200</td>\n",
              "    </tr>\n",
              "    <tr>\n",
              "      <th id=\"T_ac97f_level0_row10\" class=\"row_heading level0 row10\" >Longtitude</th>\n",
              "      <td id=\"T_ac97f_row10_col0\" class=\"data row10 col0\" >26881.000000</td>\n",
              "      <td id=\"T_ac97f_row10_col1\" class=\"data row10 col1\" >145.001851</td>\n",
              "      <td id=\"T_ac97f_row10_col2\" class=\"data row10 col2\" >0.120169</td>\n",
              "      <td id=\"T_ac97f_row10_col3\" class=\"data row10 col3\" >144.423790</td>\n",
              "      <td id=\"T_ac97f_row10_col4\" class=\"data row10 col4\" >144.933500</td>\n",
              "      <td id=\"T_ac97f_row10_col5\" class=\"data row10 col5\" >145.007800</td>\n",
              "      <td id=\"T_ac97f_row10_col6\" class=\"data row10 col6\" >145.071900</td>\n",
              "      <td id=\"T_ac97f_row10_col7\" class=\"data row10 col7\" >145.526350</td>\n",
              "    </tr>\n",
              "    <tr>\n",
              "      <th id=\"T_ac97f_level0_row11\" class=\"row_heading level0 row11\" >Propertycount</th>\n",
              "      <td id=\"T_ac97f_row11_col0\" class=\"data row11 col0\" >34854.000000</td>\n",
              "      <td id=\"T_ac97f_row11_col1\" class=\"data row11 col1\" >7572.888306</td>\n",
              "      <td id=\"T_ac97f_row11_col2\" class=\"data row11 col2\" >4428.090313</td>\n",
              "      <td id=\"T_ac97f_row11_col3\" class=\"data row11 col3\" >83.000000</td>\n",
              "      <td id=\"T_ac97f_row11_col4\" class=\"data row11 col4\" >4385.000000</td>\n",
              "      <td id=\"T_ac97f_row11_col5\" class=\"data row11 col5\" >6763.000000</td>\n",
              "      <td id=\"T_ac97f_row11_col6\" class=\"data row11 col6\" >10412.000000</td>\n",
              "      <td id=\"T_ac97f_row11_col7\" class=\"data row11 col7\" >21650.000000</td>\n",
              "    </tr>\n",
              "    <tr>\n",
              "      <th id=\"T_ac97f_level0_row12\" class=\"row_heading level0 row12\" >Price</th>\n",
              "      <td id=\"T_ac97f_row12_col0\" class=\"data row12 col0\" >27247.000000</td>\n",
              "      <td id=\"T_ac97f_row12_col1\" class=\"data row12 col1\" >1050173.344955</td>\n",
              "      <td id=\"T_ac97f_row12_col2\" class=\"data row12 col2\" >641467.130105</td>\n",
              "      <td id=\"T_ac97f_row12_col3\" class=\"data row12 col3\" >85000.000000</td>\n",
              "      <td id=\"T_ac97f_row12_col4\" class=\"data row12 col4\" >635000.000000</td>\n",
              "      <td id=\"T_ac97f_row12_col5\" class=\"data row12 col5\" >870000.000000</td>\n",
              "      <td id=\"T_ac97f_row12_col6\" class=\"data row12 col6\" >1295000.000000</td>\n",
              "      <td id=\"T_ac97f_row12_col7\" class=\"data row12 col7\" >11200000.000000</td>\n",
              "    </tr>\n",
              "  </tbody>\n",
              "</table>\n"
            ]
          },
          "metadata": {},
          "execution_count": 62
        },
        {
          "output_type": "display_data",
          "data": {
            "text/plain": [
              "<IPython.core.display.Javascript object>"
            ],
            "application/javascript": [
              "\n",
              "            setTimeout(function() {\n",
              "                var nbb_cell_id = 62;\n",
              "                var nbb_unformatted_code = \"df.describe().T.style.bar(subset=['mean'],color=colors[3]).background_gradient(subset=['std','50%','max'])\";\n",
              "                var nbb_formatted_code = \"df.describe().T.style.bar(subset=[\\\"mean\\\"], color=colors[3]).background_gradient(\\n    subset=[\\\"std\\\", \\\"50%\\\", \\\"max\\\"]\\n)\";\n",
              "                var nbb_cells = Jupyter.notebook.get_cells();\n",
              "                for (var i = 0; i < nbb_cells.length; ++i) {\n",
              "                    if (nbb_cells[i].input_prompt_number == nbb_cell_id) {\n",
              "                        if (nbb_cells[i].get_text() == nbb_unformatted_code) {\n",
              "                             nbb_cells[i].set_text(nbb_formatted_code);\n",
              "                        }\n",
              "                        break;\n",
              "                    }\n",
              "                }\n",
              "            }, 500);\n",
              "            "
            ]
          },
          "metadata": {}
        }
      ]
    },
    {
      "cell_type": "code",
      "source": [
        "df.describe(include='object').T.style.bar().background_gradient(subset=['unique','freq'])"
      ],
      "metadata": {
        "colab": {
          "base_uri": "https://localhost:8080/",
          "height": 300
        },
        "id": "hPQegqzhV_s0",
        "outputId": "d87a4f0b-fdaa-4a8c-ba6c-9b4f1eb0f11e"
      },
      "execution_count": 63,
      "outputs": [
        {
          "output_type": "execute_result",
          "data": {
            "text/plain": [
              "<pandas.io.formats.style.Styler at 0x7fa7622fc2e0>"
            ],
            "text/html": [
              "<style type=\"text/css\">\n",
              "#T_e3e11_row0_col1, #T_e3e11_row4_col1 {\n",
              "  background-color: #fef6fa;\n",
              "  color: #000000;\n",
              "}\n",
              "#T_e3e11_row0_col3 {\n",
              "  background-color: #faf3f9;\n",
              "  color: #000000;\n",
              "}\n",
              "#T_e3e11_row1_col1, #T_e3e11_row2_col3 {\n",
              "  background-color: #023858;\n",
              "  color: #f1f1f1;\n",
              "}\n",
              "#T_e3e11_row1_col3, #T_e3e11_row2_col1, #T_e3e11_row3_col1, #T_e3e11_row5_col1, #T_e3e11_row6_col1, #T_e3e11_row7_col1 {\n",
              "  background-color: #fff7fb;\n",
              "  color: #000000;\n",
              "}\n",
              "#T_e3e11_row3_col3 {\n",
              "  background-color: #04639b;\n",
              "  color: #f1f1f1;\n",
              "}\n",
              "#T_e3e11_row4_col3 {\n",
              "  background-color: #e9e5f1;\n",
              "  color: #000000;\n",
              "}\n",
              "#T_e3e11_row5_col3 {\n",
              "  background-color: #f8f1f8;\n",
              "  color: #000000;\n",
              "}\n",
              "#T_e3e11_row6_col3 {\n",
              "  background-color: #e6e2ef;\n",
              "  color: #000000;\n",
              "}\n",
              "#T_e3e11_row7_col3 {\n",
              "  background-color: #76aad0;\n",
              "  color: #f1f1f1;\n",
              "}\n",
              "</style>\n",
              "<table id=\"T_e3e11_\" class=\"dataframe\">\n",
              "  <thead>\n",
              "    <tr>\n",
              "      <th class=\"blank level0\" >&nbsp;</th>\n",
              "      <th class=\"col_heading level0 col0\" >count</th>\n",
              "      <th class=\"col_heading level0 col1\" >unique</th>\n",
              "      <th class=\"col_heading level0 col2\" >top</th>\n",
              "      <th class=\"col_heading level0 col3\" >freq</th>\n",
              "    </tr>\n",
              "  </thead>\n",
              "  <tbody>\n",
              "    <tr>\n",
              "      <th id=\"T_e3e11_level0_row0\" class=\"row_heading level0 row0\" >Suburb</th>\n",
              "      <td id=\"T_e3e11_row0_col0\" class=\"data row0 col0\" >34857</td>\n",
              "      <td id=\"T_e3e11_row0_col1\" class=\"data row0 col1\" >351</td>\n",
              "      <td id=\"T_e3e11_row0_col2\" class=\"data row0 col2\" >Reservoir</td>\n",
              "      <td id=\"T_e3e11_row0_col3\" class=\"data row0 col3\" >844</td>\n",
              "    </tr>\n",
              "    <tr>\n",
              "      <th id=\"T_e3e11_level0_row1\" class=\"row_heading level0 row1\" >Address</th>\n",
              "      <td id=\"T_e3e11_row1_col0\" class=\"data row1 col0\" >34857</td>\n",
              "      <td id=\"T_e3e11_row1_col1\" class=\"data row1 col1\" >34009</td>\n",
              "      <td id=\"T_e3e11_row1_col2\" class=\"data row1 col2\" >5 Charles St</td>\n",
              "      <td id=\"T_e3e11_row1_col3\" class=\"data row1 col3\" >6</td>\n",
              "    </tr>\n",
              "    <tr>\n",
              "      <th id=\"T_e3e11_level0_row2\" class=\"row_heading level0 row2\" >Type</th>\n",
              "      <td id=\"T_e3e11_row2_col0\" class=\"data row2 col0\" >34857</td>\n",
              "      <td id=\"T_e3e11_row2_col1\" class=\"data row2 col1\" >3</td>\n",
              "      <td id=\"T_e3e11_row2_col2\" class=\"data row2 col2\" >h</td>\n",
              "      <td id=\"T_e3e11_row2_col3\" class=\"data row2 col3\" >23980</td>\n",
              "    </tr>\n",
              "    <tr>\n",
              "      <th id=\"T_e3e11_level0_row3\" class=\"row_heading level0 row3\" >Method</th>\n",
              "      <td id=\"T_e3e11_row3_col0\" class=\"data row3 col0\" >34857</td>\n",
              "      <td id=\"T_e3e11_row3_col1\" class=\"data row3 col1\" >9</td>\n",
              "      <td id=\"T_e3e11_row3_col2\" class=\"data row3 col2\" >S</td>\n",
              "      <td id=\"T_e3e11_row3_col3\" class=\"data row3 col3\" >19744</td>\n",
              "    </tr>\n",
              "    <tr>\n",
              "      <th id=\"T_e3e11_level0_row4\" class=\"row_heading level0 row4\" >SellerG</th>\n",
              "      <td id=\"T_e3e11_row4_col0\" class=\"data row4 col0\" >34857</td>\n",
              "      <td id=\"T_e3e11_row4_col1\" class=\"data row4 col1\" >388</td>\n",
              "      <td id=\"T_e3e11_row4_col2\" class=\"data row4 col2\" >Jellis</td>\n",
              "      <td id=\"T_e3e11_row4_col3\" class=\"data row4 col3\" >3359</td>\n",
              "    </tr>\n",
              "    <tr>\n",
              "      <th id=\"T_e3e11_level0_row5\" class=\"row_heading level0 row5\" >Date</th>\n",
              "      <td id=\"T_e3e11_row5_col0\" class=\"data row5 col0\" >34857</td>\n",
              "      <td id=\"T_e3e11_row5_col1\" class=\"data row5 col1\" >78</td>\n",
              "      <td id=\"T_e3e11_row5_col2\" class=\"data row5 col2\" >28/10/2017</td>\n",
              "      <td id=\"T_e3e11_row5_col3\" class=\"data row5 col3\" >1119</td>\n",
              "    </tr>\n",
              "    <tr>\n",
              "      <th id=\"T_e3e11_level0_row6\" class=\"row_heading level0 row6\" >CouncilArea</th>\n",
              "      <td id=\"T_e3e11_row6_col0\" class=\"data row6 col0\" >34854</td>\n",
              "      <td id=\"T_e3e11_row6_col1\" class=\"data row6 col1\" >33</td>\n",
              "      <td id=\"T_e3e11_row6_col2\" class=\"data row6 col2\" >Boroondara City Council</td>\n",
              "      <td id=\"T_e3e11_row6_col3\" class=\"data row6 col3\" >3675</td>\n",
              "    </tr>\n",
              "    <tr>\n",
              "      <th id=\"T_e3e11_level0_row7\" class=\"row_heading level0 row7\" >Regionname</th>\n",
              "      <td id=\"T_e3e11_row7_col0\" class=\"data row7 col0\" >34854</td>\n",
              "      <td id=\"T_e3e11_row7_col1\" class=\"data row7 col1\" >8</td>\n",
              "      <td id=\"T_e3e11_row7_col2\" class=\"data row7 col2\" >Southern Metropolitan</td>\n",
              "      <td id=\"T_e3e11_row7_col3\" class=\"data row7 col3\" >11836</td>\n",
              "    </tr>\n",
              "  </tbody>\n",
              "</table>\n"
            ]
          },
          "metadata": {},
          "execution_count": 63
        },
        {
          "output_type": "display_data",
          "data": {
            "text/plain": [
              "<IPython.core.display.Javascript object>"
            ],
            "application/javascript": [
              "\n",
              "            setTimeout(function() {\n",
              "                var nbb_cell_id = 63;\n",
              "                var nbb_unformatted_code = \"df.describe(include='object').T.style.bar().background_gradient(subset=['unique','freq'])\";\n",
              "                var nbb_formatted_code = \"df.describe(include=\\\"object\\\").T.style.bar().background_gradient(\\n    subset=[\\\"unique\\\", \\\"freq\\\"]\\n)\";\n",
              "                var nbb_cells = Jupyter.notebook.get_cells();\n",
              "                for (var i = 0; i < nbb_cells.length; ++i) {\n",
              "                    if (nbb_cells[i].input_prompt_number == nbb_cell_id) {\n",
              "                        if (nbb_cells[i].get_text() == nbb_unformatted_code) {\n",
              "                             nbb_cells[i].set_text(nbb_formatted_code);\n",
              "                        }\n",
              "                        break;\n",
              "                    }\n",
              "                }\n",
              "            }, 500);\n",
              "            "
            ]
          },
          "metadata": {}
        }
      ]
    },
    {
      "cell_type": "markdown",
      "source": [
        "## Target Variable"
      ],
      "metadata": {
        "id": "NmrJwmliV9iI"
      }
    },
    {
      "cell_type": "code",
      "source": [
        "#checking the target variables for distribution\n",
        "sns.distplot(df['Price'],color=colors[4])\n",
        "\n",
        "# 평균 지점에 세로선 \n",
        "plt.axvline(x=df['Price'].mean(), color=colors[7], linestyle='--', linewidth=2)\n",
        "plt.title('Sales');"
      ],
      "metadata": {
        "colab": {
          "base_uri": "https://localhost:8080/",
          "height": 295
        },
        "id": "dhk0w3VeWmCR",
        "outputId": "cbcdb87a-fdb9-4026-ae51-19582c00a4c7"
      },
      "execution_count": 64,
      "outputs": [
        {
          "output_type": "display_data",
          "data": {
            "text/plain": [
              "<Figure size 432x288 with 1 Axes>"
            ],
            "image/png": "[encoded data removed]"
          },
          "metadata": {
            "needs_background": "light"
          }
        },
        {
          "output_type": "display_data",
          "data": {
            "text/plain": [
              "<IPython.core.display.Javascript object>"
            ],
            "application/javascript": [
              "\n",
              "            setTimeout(function() {\n",
              "                var nbb_cell_id = 64;\n",
              "                var nbb_unformatted_code = \"#checking the target variables for distribution\\nsns.distplot(df['Price'],color=colors[4])\\n\\n# \\ud3c9\\uade0 \\uc9c0\\uc810\\uc5d0 \\uc138\\ub85c\\uc120 \\nplt.axvline(x=df['Price'].mean(), color=colors[7], linestyle='--', linewidth=2)\\nplt.title('Sales');\";\n",
              "                var nbb_formatted_code = \"# checking the target variables for distribution\\nsns.distplot(df[\\\"Price\\\"], color=colors[4])\\n\\n# \\ud3c9\\uade0 \\uc9c0\\uc810\\uc5d0 \\uc138\\ub85c\\uc120\\nplt.axvline(x=df[\\\"Price\\\"].mean(), color=colors[7], linestyle=\\\"--\\\", linewidth=2)\\nplt.title(\\\"Sales\\\")\";\n",
              "                var nbb_cells = Jupyter.notebook.get_cells();\n",
              "                for (var i = 0; i < nbb_cells.length; ++i) {\n",
              "                    if (nbb_cells[i].input_prompt_number == nbb_cell_id) {\n",
              "                        if (nbb_cells[i].get_text() == nbb_unformatted_code) {\n",
              "                             nbb_cells[i].set_text(nbb_formatted_code);\n",
              "                        }\n",
              "                        break;\n",
              "                    }\n",
              "                }\n",
              "            }, 500);\n",
              "            "
            ]
          },
          "metadata": {}
        }
      ]
    }
  ]
}