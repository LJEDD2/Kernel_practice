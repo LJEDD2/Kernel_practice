{
 "cells": [
  {
   "attachments": {},
   "cell_type": "markdown",
   "id": "a25ac8fd",
   "metadata": {},
   "source": [
    "# Books : Visualisation and recommendation\n",
    "## [필사한 노트북 LINK](https://www.kaggle.com/code/nayansakhiya/books-visualisation-and-recommendation)\n",
    "\n",
    "---\n",
    "# 캐굴캐굴 필사 스터디 1주차\n",
    "1주차 학습 기간 : 23.01.28 ~ 23.02.04   \n",
    "주제 : 해당 데이터 셋에서 책 제목, 저자, 출판사, 사용자 및 등급에 대한 정보를 확인하여 사용자가 어떤 책을 읽고 있는지 인사이트를 얻어낸다.     \n",
    "    \n",
    "### DataSet \n",
    "- [goodbooks-10k](https://www.kaggle.com/datasets/zygmunt/goodbooks-10k)\n",
    "- [Book-Crossing: User review ratings](https://www.kaggle.com/datasets/ruchi798/bookcrossing-dataset?select=Book+reviews)"
   ]
  },
  {
   "cell_type": "code",
   "execution_count": null,
   "id": "e5abac43",
   "metadata": {},
   "outputs": [],
   "source": [
    "import numpy as np\n",
    "import pandas as pd\n",
    "import os"
   ]
  },
  {
   "cell_type": "markdown",
   "id": "dcc4685c",
   "metadata": {},
   "source": [
    "- pandas : data processing, CSV file I/O\n",
    "- numpy : 선형대수"
   ]
  },
  {
   "cell_type": "code",
   "execution_count": null,
   "id": "389fa52b",
   "metadata": {},
   "outputs": [],
   "source": [
    "for dirname, _, filenames in os.walk('/kaggle/input'):\n",
    "    for filename in filenames:\n",
    "        print(os.path.join(dirname, filename))"
   ]
  }
 ],
 "metadata": {
  "kernelspec": {
   "display_name": "Python 3 (ipykernel)",
   "language": "python",
   "name": "python3"
  },
  "language_info": {
   "codemirror_mode": {
    "name": "ipython",
    "version": 3
   },
   "file_extension": ".py",
   "mimetype": "text/x-python",
   "name": "python",
   "nbconvert_exporter": "python",
   "pygments_lexer": "ipython3",
   "version": "3.9.13"
  },
  "toc": {
   "base_numbering": 1,
   "nav_menu": {},
   "number_sections": true,
   "sideBar": true,
   "skip_h1_title": true,
   "title_cell": "Table of Contents",
   "title_sidebar": "Contents",
   "toc_cell": false,
   "toc_position": {},
   "toc_section_display": true,
   "toc_window_display": false
  }
 },
 "nbformat": 4,
 "nbformat_minor": 5
}
